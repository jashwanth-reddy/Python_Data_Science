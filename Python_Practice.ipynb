{
 "cells": [
  {
   "cell_type": "code",
   "execution_count": null,
   "id": "fa3fbaba",
   "metadata": {},
   "outputs": [],
   "source": [
    "import pandas as pd\n",
    "import numpy as np"
   ]
  },
  {
   "cell_type": "code",
   "execution_count": null,
   "id": "f4004ac9",
   "metadata": {},
   "outputs": [],
   "source": [
    "Mercy = pd.read_csv(\"E://DATA_SCIENCE//DATASETS//titanic.csv\")\n",
    "Mercy"
   ]
  },
  {
   "cell_type": "code",
   "execution_count": null,
   "id": "ed2b4f86",
   "metadata": {},
   "outputs": [],
   "source": [
    "Mercy.describe()"
   ]
  }
 ],
 "metadata": {
  "kernelspec": {
   "display_name": "Python 3 (ipykernel)",
   "language": "python",
   "name": "python3"
  },
  "language_info": {
   "codemirror_mode": {
    "name": "ipython",
    "version": 3
   },
   "file_extension": ".py",
   "mimetype": "text/x-python",
   "name": "python",
   "nbconvert_exporter": "python",
   "pygments_lexer": "ipython3",
   "version": "3.10.9"
  }
 },
 "nbformat": 4,
 "nbformat_minor": 5
}
